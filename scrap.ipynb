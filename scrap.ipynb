{
 "cells": [
  {
   "cell_type": "code",
   "execution_count": 2,
   "metadata": {},
   "outputs": [],
   "source": [
    "import pandas as pd\n",
    "import requests\n",
    "import os\n",
    "import dotenv"
   ]
  },
  {
   "cell_type": "code",
   "execution_count": 4,
   "metadata": {},
   "outputs": [],
   "source": [
    "base_url = \"https://sandbox.techops.engineering/\""
   ]
  },
  {
   "cell_type": "code",
   "execution_count": 3,
   "metadata": {},
   "outputs": [],
   "source": [
    "\n",
    "# Load in any environment variables\n",
    "env_path = os.path.join(os.getcwd(), '.env')\n",
    "dotenv.load_dotenv(env_path)\n",
    "\n",
    "# Set authorization key value in request headers\n",
    "API_KEY = os.environ.get('FULCRUM_SANDBOX_API_KEY')\n",
    "headers = {\"Authorization\": API_KEY}"
   ]
  },
  {
   "cell_type": "code",
   "execution_count": 5,
   "metadata": {},
   "outputs": [],
   "source": [
    "list_surveys_url = \"{}/Demand/v1/Surveys/BySurveyStatus/Completed\".format(base_url)"
   ]
  },
  {
   "cell_type": "code",
   "execution_count": 6,
   "metadata": {},
   "outputs": [],
   "source": [
    "response = requests.get(list_surveys_url, headers=headers)"
   ]
  },
  {
   "cell_type": "code",
   "execution_count": 7,
   "metadata": {},
   "outputs": [
    {
     "data": {
      "text/plain": [
       "b'{\"ApiResultCode\": 0, \"ApiMessages\": [\"API Message: Response initialized.\", \"API Message: GetSurveysBySurveyStatus successful.\", \"The are currently no surveys with surveyStatus=01 associated with this account.\"], \"AccountCode\": \"HRK\", \"ApiResult\": 0, \"ApiAccountStatus\": 1, \"Surveys\": [], \"AccountType\": 2, \"ResultCount\": 0, \"ApiAccount\": \"Harker\"}'"
      ]
     },
     "execution_count": 7,
     "metadata": {},
     "output_type": "execute_result"
    }
   ],
   "source": [
    "response.content"
   ]
  },
  {
   "cell_type": "code",
   "execution_count": 2,
   "metadata": {},
   "outputs": [],
   "source": [
    "response = {\n",
    "  \"ApiResult\": 0,\n",
    "  \"ApiResultCode\": 0,\n",
    "  \"ApiAccount\": \"Anon\",\n",
    "  \"AccountType\": 2,\n",
    "  \"ApiAccountStatus\": 1,\n",
    "  \"AccountCode\": \"AA\",\n",
    "  \"ApiMessages\": [\n",
    "    \"API Message: Response initialized.\",\n",
    "    \"API Message: GetSurveysBySurveyStatus successful.\"\n",
    "  ],\n",
    "  \"ResultCount\": 1,\n",
    "  \"Surveys\": [\n",
    "    {\n",
    "      \"AccountID\": 1,\n",
    "      \"SurveyStatusCode\": \"01\",\n",
    "      \"SurveyPriority\": 11,\n",
    "      \"SurveyNumber\": 12345,\n",
    "      \"SurveyName\": \"Example API Survey\",\n",
    "      \"CountryLanguageID\": 9,\n",
    "      \"IndustryID\": 30,\n",
    "      \"StudyTypeID\": 1,\n",
    "      \"ClientCPI\": 1,\n",
    "      \"QuotaCPI\": 2,\n",
    "      \"ClientSurveyLiveURL\": \"https://www.surveyURL.com?rid=[%RID%]\",\n",
    "      \"TestRedirectURL\": \"https://www.surveyURL.com?rid=[%RID%]\",\n",
    "      \"IsActive\": True,\n",
    "      \"Quota\": 100,\n",
    "      \"FulcrumExchangeAllocation\": 0,\n",
    "      \"FulcrumExchangeHedgeAccess\": True,\n",
    "      \"IsVerifyCallBack\": True,\n",
    "      \"UniquePID\": True,\n",
    "      \"UniqueIPAddress\": True,\n",
    "      \"IsRelevantID\": True,\n",
    "      \"IsDedupe\": True,\n",
    "      \"IsGeoIP\": False,\n",
    "      \"IsFraudProfile\": False,\n",
    "      \"FraudProfileThreshold\": 0,\n",
    "      \"IsTrueSample\": False,\n",
    "      \"QuotaCalculationTypeID\": 1,\n",
    "      \"SurveyPlatformID\": 2,\n",
    "      \"BidLengthOfInterview\": 10,\n",
    "      \"BusinessUnitID\": 9,\n",
    "      \"SampleTypeID\": 100,\n",
    "      \"SurveySID\": \"E75CDFE2-7221-4FAC-8561-78EE1B1D6ECF\",\n",
    "      \"BidIncidence\": 20,\n",
    "      \"CollectsPII\": None\n",
    "    }\n",
    "  ]\n",
    "}"
   ]
  },
  {
   "cell_type": "code",
   "execution_count": null,
   "metadata": {},
   "outputs": [],
   "source": [
    "def reconcile_survey(survey):\n",
    "    \n",
    "        "
   ]
  },
  {
   "cell_type": "code",
   "execution_count": null,
   "metadata": {},
   "outputs": [],
   "source": [
    "for survey in response.get('Surveys'):\n",
    "    if survey.get('SurveyStatusCode') == '04':\n",
    "        reconcile_survey(survey)"
   ]
  }
 ],
 "metadata": {
  "kernelspec": {
   "display_name": "Python 3",
   "language": "python",
   "name": "python3"
  },
  "language_info": {
   "codemirror_mode": {
    "name": "ipython",
    "version": 3
   },
   "file_extension": ".py",
   "mimetype": "text/x-python",
   "name": "python",
   "nbconvert_exporter": "python",
   "pygments_lexer": "ipython3",
   "version": "3.6.4"
  }
 },
 "nbformat": 4,
 "nbformat_minor": 1
}
