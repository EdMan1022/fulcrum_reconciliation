{
 "cells": [
  {
   "cell_type": "code",
   "execution_count": 1,
   "metadata": {},
   "outputs": [],
   "source": [
    "from classes.auto_reconciler import AutoReconciler\n",
    "import dotenv\n",
    "import os\n",
    "\n",
    "from classes.fulcrum_variables import FulcrumVariables\n",
    "import requests\n",
    "import json"
   ]
  },
  {
   "cell_type": "code",
   "execution_count": 2,
   "metadata": {},
   "outputs": [],
   "source": [
    "# Load in any environment variables\n",
    "env_path = os.path.join(os.getcwd(), '.env')\n",
    "dotenv.load_dotenv(env_path)\n",
    "\n",
    "# Set authorization key value for request headers\n",
    "API_KEY = os.environ.get('FULCRUM_SANDBOX_API_KEY')\n"
   ]
  },
  {
   "cell_type": "code",
   "execution_count": 3,
   "metadata": {},
   "outputs": [],
   "source": [
    "request_header = {FulcrumVariables.authorization: API_KEY}"
   ]
  },
  {
   "cell_type": "code",
   "execution_count": 14,
   "metadata": {},
   "outputs": [],
   "source": [
    "params = {\n",
    "    \"SurveyStatusCode\": \"04\",\n",
    "    \"SurveyPriority\": 11,\n",
    "    \"SurveyName\": \"Example API Survey 2\",\n",
    "    \"CountryLanguageID\": 9,\n",
    "    \"IndustryID\": 30,\n",
    "    \"StudyTypeID\": 1,\n",
    "    \"ClientCPI\": 1,\n",
    "    \"QuotaCPI\": 2,\n",
    "    \"ClientSurveyLiveURL\": \"https://www.surveyURL.com?rid=[%RID%]\",\n",
    "    \"TestRedirectURL\": \"https://www.surveyURL.com?rid=[%RID%]\",\n",
    "    \"IsActive\": True,\n",
    "    \"Quota\": 1000,\n",
    "    \"FulcrumExchangeAllocation\": 0,\n",
    "    \"FulcrumExchangeHedgeAccess\": True,\n",
    "    \"IsVerifyCallBack\": True,\n",
    "    \"UniquePID\": True,\n",
    "    \"UniqueIPAddress\": True,\n",
    "    \"IsRelevantID\": False,\n",
    "    \"IsDedupe\": False,\n",
    "    \"IsGeoIP\": False,\n",
    "    \"IsFraudProfile\": False,\n",
    "    \"FraudProfileThreshold\": 0,\n",
    "    \"IsTrueSample\": False,\n",
    "    \"QuotaCalculationTypeID\": 1,\n",
    "    \"SurveyPlatformID\": 2,\n",
    "    \"BidLengthOfInterview\": 10,\n",
    "    \"SampleTypeID\": 100,\n",
    "    \"BidIncidence\": 20,\n",
    "    \"CollectsPII\": None\n",
    " }\n",
    "data = json.dumps(params)\n",
    "headers = {'Content-type': 'application/json', 'Authorization' : API_KEY, 'Accept': 'text/plain'}\n"
   ]
  },
  {
   "cell_type": "code",
   "execution_count": 15,
   "metadata": {},
   "outputs": [],
   "source": [
    "url = \"https://sandbox.techops.engineering/Demand/v1/Surveys/Create\"\n",
    "response = requests.post(url, data=data, headers=headers)"
   ]
  },
  {
   "cell_type": "code",
   "execution_count": null,
   "metadata": {},
   "outputs": [],
   "source": []
  },
  {
   "cell_type": "code",
   "execution_count": 16,
   "metadata": {},
   "outputs": [
    {
     "data": {
      "text/plain": [
       "{'AccountCode': 'HRK',\n",
       " 'AccountType': 2,\n",
       " 'ApiAccount': 'Harker',\n",
       " 'ApiAccountStatus': 1,\n",
       " 'ApiMessages': ['API Message, Response initialized.',\n",
       "  'API Message, CreateSurveyFromModel successful.'],\n",
       " 'ApiResult': 0,\n",
       " 'ApiResultCode': 0,\n",
       " 'ResultCount': 1,\n",
       " 'Survey': {'AccountID': 834,\n",
       "  'BidIncidence': 20.0,\n",
       "  'BidLengthOfInterview': 10,\n",
       "  'BusinessUnitID': 1055,\n",
       "  'ClientCPI': 1.0,\n",
       "  'ClientSurveyLiveURL': 'https://www.surveyURL.com?rid=[%RID%]',\n",
       "  'CollectsPII': None,\n",
       "  'CountryLanguageID': 9,\n",
       "  'FraudProfileThreshold': 0,\n",
       "  'FulcrumExchangeAllocation': 0.0,\n",
       "  'FulcrumExchangeHedgeAccess': True,\n",
       "  'IndustryID': 30,\n",
       "  'IsActive': True,\n",
       "  'IsDedupe': False,\n",
       "  'IsFraudProfile': False,\n",
       "  'IsGeoIP': False,\n",
       "  'IsRelevantID': False,\n",
       "  'IsTrueSample': False,\n",
       "  'IsVerifyCallBack': True,\n",
       "  'Quota': 1000,\n",
       "  'QuotaCPI': 2.0,\n",
       "  'QuotaCalculationTypeID': 1,\n",
       "  'SampleTypeID': 100,\n",
       "  'StudyTypeID': 1,\n",
       "  'SurveyName': 'Example API Survey 2',\n",
       "  'SurveyNumber': 1572519,\n",
       "  'SurveyPlatformID': 2,\n",
       "  'SurveyPriority': 11,\n",
       "  'SurveySID': '830236e9-cbb3-49c9-bd2e-40cb4a0fa6de',\n",
       "  'SurveyStatusCode': '04',\n",
       "  'TestRedirectURL': 'https://www.surveyURL.com?rid=[%RID%]',\n",
       "  'UniqueIPAddress': True,\n",
       "  'UniquePID': True}}"
      ]
     },
     "execution_count": 16,
     "metadata": {},
     "output_type": "execute_result"
    }
   ],
   "source": [
    "response.json()"
   ]
  },
  {
   "cell_type": "code",
   "execution_count": null,
   "metadata": {},
   "outputs": [],
   "source": []
  }
 ],
 "metadata": {
  "kernelspec": {
   "display_name": "Python 3",
   "language": "python",
   "name": "python3"
  },
  "language_info": {
   "codemirror_mode": {
    "name": "ipython",
    "version": 3
   },
   "file_extension": ".py",
   "mimetype": "text/x-python",
   "name": "python",
   "nbconvert_exporter": "python",
   "pygments_lexer": "ipython3",
   "version": "3.6.4"
  }
 },
 "nbformat": 4,
 "nbformat_minor": 2
}
