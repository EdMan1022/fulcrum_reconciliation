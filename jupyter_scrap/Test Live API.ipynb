{
 "cells": [
  {
   "cell_type": "code",
   "execution_count": 1,
   "metadata": {},
   "outputs": [],
   "source": [
    "from classes.auto_reconciler import AutoReconciler\n",
    "import dotenv\n",
    "import os\n",
    "\n",
    "from classes.fulcrum_variables import FulcrumVariables\n",
    "import requests\n",
    "import json"
   ]
  },
  {
   "cell_type": "code",
   "execution_count": 2,
   "metadata": {},
   "outputs": [],
   "source": [
    "# Load in any environment variables\n",
    "env_path = os.path.join(os.getcwd(), '.env')\n",
    "dotenv.load_dotenv(env_path)\n",
    "\n",
    "# Set authorization key value for request headers\n",
    "API_KEY = os.environ.get('FULCRUM_PRODUCTION_API_KEY')\n"
   ]
  },
  {
   "cell_type": "code",
   "execution_count": 3,
   "metadata": {},
   "outputs": [],
   "source": [
    "request_header = {FulcrumVariables.authorization: API_KEY}"
   ]
  },
  {
   "cell_type": "code",
   "execution_count": 34,
   "metadata": {},
   "outputs": [],
   "source": [
    "lookup_url = 'https://api.samplicio.us/Lookup/v1/BasicLookups/BundledLookups/CountryLanguages,Industries,SampleTypes,StudyTypes,SupplierLinkTypes,SurveyStatuses'\n",
    "\n",
    "url = 'https://api.samplicio.us/Demand/v1/Surveys/BySurveyStatus/03'\n"
   ]
  },
  {
   "cell_type": "code",
   "execution_count": 35,
   "metadata": {},
   "outputs": [],
   "source": [
    "response = requests.get(url, headers=request_header)"
   ]
  },
  {
   "cell_type": "code",
   "execution_count": 36,
   "metadata": {
    "scrolled": true
   },
   "outputs": [],
   "source": [
    "data = response.json()"
   ]
  },
  {
   "cell_type": "code",
   "execution_count": 33,
   "metadata": {},
   "outputs": [
    {
     "data": {
      "text/plain": [
       "[{'Code': '06',\n",
       "  'Id': '0',\n",
       "  'IsActive': True,\n",
       "  'Name': 'Canceled - Non Charged',\n",
       "  'SortOrder': 0},\n",
       " {'Code': '02',\n",
       "  'Id': '1',\n",
       "  'IsActive': True,\n",
       "  'Name': 'Pending',\n",
       "  'SortOrder': 1},\n",
       " {'Code': '03', 'Id': '2', 'IsActive': True, 'Name': 'Live', 'SortOrder': 2},\n",
       " {'Code': '04',\n",
       "  'Id': '3',\n",
       "  'IsActive': True,\n",
       "  'Name': 'Complete',\n",
       "  'SortOrder': 3},\n",
       " {'Code': '01',\n",
       "  'Id': '4',\n",
       "  'IsActive': True,\n",
       "  'Name': 'Awarded',\n",
       "  'SortOrder': 4},\n",
       " {'Code': '05',\n",
       "  'Id': '5',\n",
       "  'IsActive': True,\n",
       "  'Name': 'Canceled - With Charge',\n",
       "  'SortOrder': 5},\n",
       " {'Code': '09',\n",
       "  'Id': '6',\n",
       "  'IsActive': True,\n",
       "  'Name': 'Invoiced',\n",
       "  'SortOrder': 6},\n",
       " {'Code': '07',\n",
       "  'Id': '7',\n",
       "  'IsActive': True,\n",
       "  'Name': 'Complete - Non Charged',\n",
       "  'SortOrder': 7},\n",
       " {'Code': '08',\n",
       "  'Id': '8',\n",
       "  'IsActive': True,\n",
       "  'Name': 'Completes Approved',\n",
       "  'SortOrder': 8},\n",
       " {'Code': '10', 'Id': '9', 'IsActive': True, 'Name': 'Bid', 'SortOrder': 9},\n",
       " {'Code': '11',\n",
       "  'Id': '10',\n",
       "  'IsActive': True,\n",
       "  'Name': 'Archived',\n",
       "  'SortOrder': 10},\n",
       " {'Code': '12', 'Id': '11', 'IsActive': True, 'Name': 'Paid', 'SortOrder': 11},\n",
       " {'Code': '13',\n",
       "  'Id': '12',\n",
       "  'IsActive': True,\n",
       "  'Name': 'Ready to Invoice',\n",
       "  'SortOrder': 12}]"
      ]
     },
     "execution_count": 33,
     "metadata": {},
     "output_type": "execute_result"
    }
   ],
   "source": [
    "data.get('AllSurveyStatuses')"
   ]
  },
  {
   "cell_type": "code",
   "execution_count": 37,
   "metadata": {},
   "outputs": [],
   "source": [
    "survey_list = data.get('Surveys')"
   ]
  },
  {
   "cell_type": "code",
   "execution_count": 38,
   "metadata": {},
   "outputs": [
    {
     "data": {
      "text/plain": [
       "12"
      ]
     },
     "execution_count": 38,
     "metadata": {},
     "output_type": "execute_result"
    }
   ],
   "source": [
    "len(survey_list)"
   ]
  },
  {
   "cell_type": "code",
   "execution_count": 40,
   "metadata": {},
   "outputs": [
    {
     "data": {
      "text/plain": [
       "{'AccountID': 834,\n",
       " 'BidIncidence': 70,\n",
       " 'BidLengthOfInterview': 8,\n",
       " 'BusinessUnitID': 1055,\n",
       " 'ClientCPI': 0,\n",
       " 'ClientSurveyLiveURL': 'https://na2se.voxco.com/se/?st=xYvWr%2bQofKCyz4zS0BskfoBRTfdxAgtEEBDN0F5akgg%3d&urlimport=1&questlist=Vendor;ID&Vendor=FU&ID=[%RID%]',\n",
       " 'CollectsPII': None,\n",
       " 'CountryLanguageID': 9,\n",
       " 'FraudProfileThreshold': 11,\n",
       " 'FulcrumExchangeAllocation': 0,\n",
       " 'FulcrumExchangeHedgeAccess': True,\n",
       " 'IndustryID': 30,\n",
       " 'IsActive': True,\n",
       " 'IsDedupe': True,\n",
       " 'IsFraudProfile': True,\n",
       " 'IsGeoIP': True,\n",
       " 'IsRelevantID': True,\n",
       " 'IsTrueSample': False,\n",
       " 'IsVerifyCallBack': False,\n",
       " 'Quota': 45,\n",
       " 'QuotaCPI': 1,\n",
       " 'QuotaCalculationTypeID': 1,\n",
       " 'SampleTypeID': None,\n",
       " 'StudyTypeID': 1,\n",
       " 'SurveyName': 'WFLC callout 1803',\n",
       " 'SurveyNumber': 1557395,\n",
       " 'SurveyPlatformID': None,\n",
       " 'SurveyPriority': 11,\n",
       " 'SurveySID': '019831A8-CF45-4043-A785-D5F06C038115',\n",
       " 'SurveyStatusCode': '03',\n",
       " 'TestRedirectURL': 'https://na2se.voxco.com/se/?st=xYvWr%2bQofKCyz4zS0BskfoBRTfdxAgtEEBDN0F5akgg%3d&urlimport=1&questlist=Vendor;ID&Vendor=FU&ID=[%RID%]&test=1',\n",
       " 'UniqueIPAddress': True,\n",
       " 'UniquePID': True}"
      ]
     },
     "execution_count": 40,
     "metadata": {},
     "output_type": "execute_result"
    }
   ],
   "source": [
    "survey_list[0]"
   ]
  },
  {
   "cell_type": "code",
   "execution_count": null,
   "metadata": {},
   "outputs": [],
   "source": []
  }
 ],
 "metadata": {
  "kernelspec": {
   "display_name": "Python 3",
   "language": "python",
   "name": "python3"
  },
  "language_info": {
   "codemirror_mode": {
    "name": "ipython",
    "version": 3
   },
   "file_extension": ".py",
   "mimetype": "text/x-python",
   "name": "python",
   "nbconvert_exporter": "python",
   "pygments_lexer": "ipython3",
   "version": "3.6.4"
  }
 },
 "nbformat": 4,
 "nbformat_minor": 2
}
