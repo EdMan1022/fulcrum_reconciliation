{
 "cells": [
  {
   "cell_type": "code",
   "execution_count": 11,
   "metadata": {},
   "outputs": [],
   "source": [
    "from classes.auto_reconciler import AutoReconciler\n",
    "import dotenv\n",
    "import os\n",
    "\n",
    "from classes.fulcrum_variables import FulcrumVariables\n",
    "import requests\n",
    "import json"
   ]
  },
  {
   "cell_type": "code",
   "execution_count": 12,
   "metadata": {},
   "outputs": [],
   "source": [
    "# Load in any environment variables\n",
    "env_path = os.path.join(os.getcwd(), '.env')\n",
    "dotenv.load_dotenv(env_path)\n",
    "\n",
    "# Set authorization key value for request headers\n",
    "API_KEY = os.environ.get('FULCRUM_SANDBOX_API_KEY')\n"
   ]
  },
  {
   "cell_type": "code",
   "execution_count": 13,
   "metadata": {},
   "outputs": [],
   "source": [
    "self = AutoReconciler(API_KEY)"
   ]
  },
  {
   "cell_type": "code",
   "execution_count": 14,
   "metadata": {},
   "outputs": [],
   "source": [
    "self.list_completed_surveys()\n",
    "self.good_ids_list = self.configure_good_ids_list()"
   ]
  },
  {
   "cell_type": "code",
   "execution_count": 15,
   "metadata": {},
   "outputs": [
    {
     "data": {
      "text/plain": [
       "[{'AccountID': 834,\n",
       "  'BidIncidence': 20,\n",
       "  'BidLengthOfInterview': 10,\n",
       "  'BusinessUnitID': 1055,\n",
       "  'ClientCPI': 1,\n",
       "  'ClientSurveyLiveURL': 'https://www.surveyURL.com?rid=[%RID%]',\n",
       "  'CollectsPII': None,\n",
       "  'CountryLanguageID': 9,\n",
       "  'FraudProfileThreshold': 0,\n",
       "  'FulcrumExchangeAllocation': 0,\n",
       "  'FulcrumExchangeHedgeAccess': True,\n",
       "  'IndustryID': 30,\n",
       "  'IsActive': True,\n",
       "  'IsDedupe': False,\n",
       "  'IsFraudProfile': False,\n",
       "  'IsGeoIP': False,\n",
       "  'IsRelevantID': False,\n",
       "  'IsTrueSample': False,\n",
       "  'IsVerifyCallBack': True,\n",
       "  'Quota': 1000,\n",
       "  'QuotaCPI': 2,\n",
       "  'QuotaCalculationTypeID': 1,\n",
       "  'SampleTypeID': 100,\n",
       "  'StudyTypeID': 1,\n",
       "  'SurveyName': 'Example API Survey',\n",
       "  'SurveyNumber': 1572517,\n",
       "  'SurveyPlatformID': 2,\n",
       "  'SurveyPriority': 11,\n",
       "  'SurveySID': '4e81d57f-4409-4951-8742-f28e2b237a36',\n",
       "  'SurveyStatusCode': '04',\n",
       "  'TestRedirectURL': 'https://www.surveyURL.com?rid=[%RID%]',\n",
       "  'UniqueIPAddress': False,\n",
       "  'UniquePID': True},\n",
       " {'AccountID': 834,\n",
       "  'BidIncidence': 20,\n",
       "  'BidLengthOfInterview': 10,\n",
       "  'BusinessUnitID': 1055,\n",
       "  'ClientCPI': 1,\n",
       "  'ClientSurveyLiveURL': 'https://www.surveyURL.com?rid=[%RID%]',\n",
       "  'CollectsPII': None,\n",
       "  'CountryLanguageID': 9,\n",
       "  'FraudProfileThreshold': 0,\n",
       "  'FulcrumExchangeAllocation': 0,\n",
       "  'FulcrumExchangeHedgeAccess': True,\n",
       "  'IndustryID': 30,\n",
       "  'IsActive': True,\n",
       "  'IsDedupe': False,\n",
       "  'IsFraudProfile': False,\n",
       "  'IsGeoIP': False,\n",
       "  'IsRelevantID': False,\n",
       "  'IsTrueSample': False,\n",
       "  'IsVerifyCallBack': True,\n",
       "  'Quota': 1000,\n",
       "  'QuotaCPI': 2,\n",
       "  'QuotaCalculationTypeID': 1,\n",
       "  'SampleTypeID': 100,\n",
       "  'StudyTypeID': 1,\n",
       "  'SurveyName': 'Example API Survey 2',\n",
       "  'SurveyNumber': 1572519,\n",
       "  'SurveyPlatformID': 2,\n",
       "  'SurveyPriority': 11,\n",
       "  'SurveySID': '830236e9-cbb3-49c9-bd2e-40cb4a0fa6de',\n",
       "  'SurveyStatusCode': '04',\n",
       "  'TestRedirectURL': 'https://www.surveyURL.com?rid=[%RID%]',\n",
       "  'UniqueIPAddress': False,\n",
       "  'UniquePID': True}]"
      ]
     },
     "execution_count": 15,
     "metadata": {},
     "output_type": "execute_result"
    }
   ],
   "source": [
    "self.completed_surveys"
   ]
  },
  {
   "cell_type": "code",
   "execution_count": 10,
   "metadata": {},
   "outputs": [
    {
     "ename": "Exception",
     "evalue": "",
     "output_type": "error",
     "traceback": [
      "\u001b[1;31m---------------------------------------------------------------------------\u001b[0m",
      "\u001b[1;31mException\u001b[0m                                 Traceback (most recent call last)",
      "\u001b[1;32m<ipython-input-10-baae8cdbb413>\u001b[0m in \u001b[0;36m<module>\u001b[1;34m()\u001b[0m\n\u001b[1;32m----> 1\u001b[1;33m \u001b[0mself\u001b[0m\u001b[1;33m.\u001b[0m\u001b[0mreconcile_completed_surveys\u001b[0m\u001b[1;33m(\u001b[0m\u001b[1;33m)\u001b[0m\u001b[1;33m\u001b[0m\u001b[0m\n\u001b[0m",
      "\u001b[1;32m~\\PycharmProjects\\fulcrum_reconciliation\\classes\\auto_reconciler.py\u001b[0m in \u001b[0;36mreconcile_completed_surveys\u001b[1;34m(self)\u001b[0m\n\u001b[0;32m    100\u001b[0m     \u001b[1;32mdef\u001b[0m \u001b[0mreconcile_completed_surveys\u001b[0m\u001b[1;33m(\u001b[0m\u001b[0mself\u001b[0m\u001b[1;33m)\u001b[0m\u001b[1;33m:\u001b[0m\u001b[1;33m\u001b[0m\u001b[0m\n\u001b[0;32m    101\u001b[0m         \u001b[1;32mfor\u001b[0m \u001b[0msurvey\u001b[0m \u001b[1;32min\u001b[0m \u001b[0mself\u001b[0m\u001b[1;33m.\u001b[0m\u001b[0mcompleted_surveys\u001b[0m\u001b[1;33m:\u001b[0m\u001b[1;33m\u001b[0m\u001b[0m\n\u001b[1;32m--> 102\u001b[1;33m             \u001b[0mself\u001b[0m\u001b[1;33m.\u001b[0m\u001b[0mreconcile_survey\u001b[0m\u001b[1;33m(\u001b[0m\u001b[0msurvey\u001b[0m\u001b[1;33m.\u001b[0m\u001b[0mget\u001b[0m\u001b[1;33m(\u001b[0m\u001b[1;34m'survey_number'\u001b[0m\u001b[1;33m)\u001b[0m\u001b[1;33m)\u001b[0m\u001b[1;33m\u001b[0m\u001b[0m\n\u001b[0m",
      "\u001b[1;32m~\\PycharmProjects\\fulcrum_reconciliation\\classes\\auto_reconciler.py\u001b[0m in \u001b[0;36mreconcile_survey\u001b[1;34m(self, survey_number)\u001b[0m\n\u001b[0;32m     77\u001b[0m \u001b[1;33m\u001b[0m\u001b[0m\n\u001b[0;32m     78\u001b[0m         \u001b[1;32mif\u001b[0m \u001b[0mresponse\u001b[0m\u001b[1;33m.\u001b[0m\u001b[0mstatus_code\u001b[0m \u001b[1;33m!=\u001b[0m \u001b[1;36m202\u001b[0m\u001b[1;33m:\u001b[0m\u001b[1;33m\u001b[0m\u001b[0m\n\u001b[1;32m---> 79\u001b[1;33m             \u001b[1;32mraise\u001b[0m \u001b[0mException\u001b[0m\u001b[1;33m\u001b[0m\u001b[0m\n\u001b[0m\u001b[0;32m     80\u001b[0m \u001b[1;33m\u001b[0m\u001b[0m\n\u001b[0;32m     81\u001b[0m     \u001b[1;32mdef\u001b[0m \u001b[0mconfigure_good_ids_list\u001b[0m\u001b[1;33m(\u001b[0m\u001b[0mself\u001b[0m\u001b[1;33m)\u001b[0m\u001b[1;33m:\u001b[0m\u001b[1;33m\u001b[0m\u001b[0m\n",
      "\u001b[1;31mException\u001b[0m: "
     ]
    }
   ],
   "source": [
    "self.reconcile_completed_surveys()"
   ]
  },
  {
   "cell_type": "code",
   "execution_count": 13,
   "metadata": {},
   "outputs": [],
   "source": [
    "request_header = {FulcrumVariables.authorization: self.api_key}\n",
    "response = requests.get(\"{}/{}\".format(self.list_surveys_url, FulcrumVariables.complete_name),\n",
    "                        headers=request_header)\n"
   ]
  },
  {
   "cell_type": "code",
   "execution_count": 14,
   "metadata": {
    "scrolled": true
   },
   "outputs": [],
   "source": [
    "response_data = response.json()"
   ]
  },
  {
   "cell_type": "code",
   "execution_count": 15,
   "metadata": {},
   "outputs": [
    {
     "data": {
      "text/plain": [
       "{'AccountCode': 'HRK',\n",
       " 'AccountType': 2,\n",
       " 'ApiAccount': 'Harker',\n",
       " 'ApiAccountStatus': 1,\n",
       " 'ApiMessages': ['API Message: Response initialized.',\n",
       "  'API Message: GetSurveysBySurveyStatus successful.'],\n",
       " 'ApiResult': 0,\n",
       " 'ApiResultCode': 0,\n",
       " 'ResultCount': 0,\n",
       " 'Surveys': []}"
      ]
     },
     "execution_count": 15,
     "metadata": {},
     "output_type": "execute_result"
    }
   ],
   "source": [
    "response_data"
   ]
  },
  {
   "cell_type": "code",
   "execution_count": 19,
   "metadata": {},
   "outputs": [],
   "source": [
    "response_data = response.json()"
   ]
  },
  {
   "cell_type": "code",
   "execution_count": 21,
   "metadata": {},
   "outputs": [
    {
     "data": {
      "text/plain": [
       "[]"
      ]
     },
     "execution_count": 21,
     "metadata": {},
     "output_type": "execute_result"
    }
   ],
   "source": [
    "response_data.get('Surveys')"
   ]
  },
  {
   "cell_type": "code",
   "execution_count": null,
   "metadata": {},
   "outputs": [],
   "source": []
  }
 ],
 "metadata": {
  "kernelspec": {
   "display_name": "Python 3",
   "language": "python",
   "name": "python3"
  },
  "language_info": {
   "codemirror_mode": {
    "name": "ipython",
    "version": 3
   },
   "file_extension": ".py",
   "mimetype": "text/x-python",
   "name": "python",
   "nbconvert_exporter": "python",
   "pygments_lexer": "ipython3",
   "version": "3.6.4"
  }
 },
 "nbformat": 4,
 "nbformat_minor": 2
}
