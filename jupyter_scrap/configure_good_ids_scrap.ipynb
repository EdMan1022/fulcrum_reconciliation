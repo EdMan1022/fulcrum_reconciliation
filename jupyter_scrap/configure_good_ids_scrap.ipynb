{
 "cells": [
  {
   "cell_type": "code",
   "execution_count": 48,
   "metadata": {},
   "outputs": [],
   "source": [
    "import pandas as pd\n",
    "import os\n",
    "import datetime"
   ]
  },
  {
   "cell_type": "code",
   "execution_count": 49,
   "metadata": {},
   "outputs": [],
   "source": [
    "data_check_path = \"S:/Python/Data Check\""
   ]
  },
  {
   "cell_type": "code",
   "execution_count": 50,
   "metadata": {},
   "outputs": [],
   "source": [
    "date_list = os.listdir(data_check_path)"
   ]
  },
  {
   "cell_type": "code",
   "execution_count": 51,
   "metadata": {},
   "outputs": [],
   "source": [
    "split_lists = [date.split(' ') for date in date_list]"
   ]
  },
  {
   "cell_type": "code",
   "execution_count": 52,
   "metadata": {},
   "outputs": [],
   "source": [
    "split_lists = [a for a in split_lists if len(a) > 2]"
   ]
  },
  {
   "cell_type": "code",
   "execution_count": 53,
   "metadata": {},
   "outputs": [],
   "source": [
    "today = datetime.datetime.today()\n",
    "date_str = \"{}-{}\".format(today.year, str(today.month).zfill(2))\n",
    "date_series = pd.Series(date_list)\n",
    "this_month_series = date_series[date_series.str.contains(date_str)]"
   ]
  },
  {
   "cell_type": "code",
   "execution_count": 54,
   "metadata": {},
   "outputs": [
    {
     "name": "stdout",
     "output_type": "stream",
     "text": [
      "~$WHUR 2018-02-06 Data Check.xlsx open somewhere\n",
      "~$WRTO 2018-02-05 Data Check.xlsx open somewhere\n"
     ]
    }
   ],
   "source": [
    "ids=[]\n",
    "for i in this_month_series.tolist():\n",
    "    try:\n",
    "        data_check = pd.read_excel(\"{}/{}\".format(data_check_path, i))\n",
    "        good_data = data_check[data_check.loc[:, 'BadData'] != 1]\n",
    "        fulcrum_data = good_data[good_data.loc[:, 'VENDOR'] == 'FU']\n",
    "        ids += (fulcrum_data.loc[:, 'ID'].tolist())\n",
    "    except PermissionError:\n",
    "        print(\"{} open somewhere\".format(i))"
   ]
  },
  {
   "cell_type": "code",
   "execution_count": null,
   "metadata": {},
   "outputs": [],
   "source": []
  }
 ],
 "metadata": {
  "kernelspec": {
   "display_name": "Python 3",
   "language": "python",
   "name": "python3"
  },
  "language_info": {
   "codemirror_mode": {
    "name": "ipython",
    "version": 3
   },
   "file_extension": ".py",
   "mimetype": "text/x-python",
   "name": "python",
   "nbconvert_exporter": "python",
   "pygments_lexer": "ipython3",
   "version": "3.6.4"
  }
 },
 "nbformat": 4,
 "nbformat_minor": 2
}
